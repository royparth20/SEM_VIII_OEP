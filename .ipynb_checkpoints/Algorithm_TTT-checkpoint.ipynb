{
 "cells": [
  {
   "cell_type": "code",
   "execution_count": 181,
   "metadata": {},
   "outputs": [],
   "source": [
    "import math as Math"
   ]
  },
  {
   "cell_type": "code",
   "execution_count": 182,
   "metadata": {},
   "outputs": [],
   "source": [
    "\n",
    "def evaluate(b):  \n",
    "   \n",
    "    # Checking for Rows for X or O victory.  \n",
    "    for row in range(0, 3):  \n",
    "       \n",
    "        if b[row][0] == b[row][1] and b[row][1] == b[row][2]:  \n",
    "           \n",
    "            if b[row][0] == 'x': \n",
    "                return 10 \n",
    "            elif b[row][0] == 'o':  \n",
    "                return -10 \n",
    "  \n",
    "    # Checking for Columns for X or O victory.  \n",
    "    for col in range(0, 3):  \n",
    "       \n",
    "        if b[0][col] == b[1][col] and b[1][col] == b[2][col]:  \n",
    "           \n",
    "            if b[0][col]=='x': \n",
    "                return 10 \n",
    "            elif b[0][col] == 'o':  \n",
    "                return -10 \n",
    "  \n",
    "    # Checking for Diagonals for X or O victory.  \n",
    "    if b[0][0] == b[1][1] and b[1][1] == b[2][2]:  \n",
    "       \n",
    "        if b[0][0] == 'x':  \n",
    "            return 10 \n",
    "        elif b[0][0] == 'o':  \n",
    "            return -10 \n",
    "       \n",
    "    if b[0][2] == b[1][1] and b[1][1] == b[2][0]:  \n",
    "       \n",
    "        if b[0][2] == 'x':  \n",
    "            return 10 \n",
    "        elif b[0][2] == 'o':  \n",
    "            return -10 \n",
    "       \n",
    "    # Else if none of them have won then return 0  \n",
    "    return 0 \n",
    "   \n"
   ]
  },
  {
   "cell_type": "code",
   "execution_count": 183,
   "metadata": {},
   "outputs": [],
   "source": [
    "def isFullBoard(board):\n",
    "    for x in board:\n",
    "        for y in x:\n",
    "            if y=='':\n",
    "                return False\n",
    "    return True"
   ]
  },
  {
   "cell_type": "code",
   "execution_count": 184,
   "metadata": {},
   "outputs": [],
   "source": [
    "def createNewNode(currentBoard,nChar,oChar):\n",
    "    newNode=currentBoard[:]\n",
    "    c=0\n",
    "    for x in currentBoard:\n",
    "        col=0\n",
    "        for y in x:\n",
    "            if y==oChar:\n",
    "                newNode[c][col]=nChar\n",
    "                return newNode\n",
    "            col-=-1\n",
    "        c-=-1\n",
    "    return newNode    "
   ]
  },
  {
   "cell_type": "code",
   "execution_count": 197,
   "metadata": {},
   "outputs": [],
   "source": [
    "def minimax(board,depth,isMax,player,opponent):\n",
    "    \n",
    "    score=evaluate(board)\n",
    "    print(\"Score : \",score,\"\\nDepth : \",depth,\"\\nMovement : \",isMax)\n",
    "    \n",
    "    if score==10:\n",
    "        return score\n",
    "    if score==-10:\n",
    "        return score\n",
    "    \n",
    "    if isFullBoard(board):\n",
    "        return 0\n",
    "\n",
    "    if isMax:\n",
    "        best=-999\n",
    "        temp=createNewNode(board,player,'')\n",
    "        print(temp)\n",
    "        best=max(best,minimax(temp,depth+1,not isMax,player,opponent))\n",
    "        print('Max :',score)\n",
    "        return best\n",
    "    else:\n",
    "        best=999\n",
    "        temp=createNewNode(board,opponent,'')\n",
    "        print(temp)\n",
    "        best=min(best,minimax(temp,depth+1,not isMax,player,opponent))\n",
    "        print('Min :',score)\n",
    "        return best"
   ]
  },
  {
   "cell_type": "code",
   "execution_count": 195,
   "metadata": {},
   "outputs": [],
   "source": [
    "def findBestMove(board,player,opponent):\n",
    "    bestMove=None\n",
    "    bestVal=-999\n",
    "    row=0\n",
    "    nboard=board[:]\n",
    "    for x in board:\n",
    "        col=0\n",
    "        for y in x:\n",
    "            if y=='':\n",
    "                nboard[row][col]=player\n",
    "                print(\"Input :\",nboard)\n",
    "                movVal=minimax(nboard,0,False,player,opponent)\n",
    "#                 print(row,col,movVal,bestVal)\n",
    "                if movVal >= bestVal:\n",
    "                    bestMove=row,col,bestVal\n",
    "                    bestVal=movVal\n",
    "                    print(\"-\"*10,\"BestVal :\",bestVal,\"-\"*10)\n",
    "            col-=-1\n",
    "        row-=-1\n",
    "    return bestMove"
   ]
  },
  {
   "cell_type": "code",
   "execution_count": 199,
   "metadata": {},
   "outputs": [
    {
     "name": "stdout",
     "output_type": "stream",
     "text": [
      "Input : [['o', 'x', 'o'], ['x', 'x', 'o'], ['o', '', '']]\n",
      "Score :  0 \n",
      "Depth :  0 \n",
      "Movement :  False\n",
      "[['o', 'x', 'o'], ['x', 'x', 'o'], ['o', 'x', '']]\n",
      "Score :  10 \n",
      "Depth :  1 \n",
      "Movement :  True\n",
      "Min : 0\n",
      "---------- BestVal : 10 ----------\n",
      "Input : [['o', 'x', 'o'], ['x', 'x', 'o'], ['o', 'x', 'o']]\n",
      "Score :  10 \n",
      "Depth :  0 \n",
      "Movement :  False\n",
      "---------- BestVal : 10 ----------\n",
      "Best Move is (2, 2, 10)\n"
     ]
    }
   ],
   "source": [
    "\n",
    "if __name__ == \"__main__\":\n",
    "   \n",
    "    board = [['o', 'x', 'o'],  \n",
    "             ['x', 'x', 'o'],  \n",
    "             ['', '', '']]  \n",
    "    bestMove=findBestMove(board,'o','x')\n",
    "    print(\"Best Move is\", bestMove)  \n",
    "  \n",
    "# This code is contributed by Parth Roy "
   ]
  },
  {
   "cell_type": "code",
   "execution_count": null,
   "metadata": {},
   "outputs": [],
   "source": []
  }
 ],
 "metadata": {
  "kernelspec": {
   "display_name": "Python 3",
   "language": "python",
   "name": "python3"
  },
  "language_info": {
   "codemirror_mode": {
    "name": "ipython",
    "version": 3
   },
   "file_extension": ".py",
   "mimetype": "text/x-python",
   "name": "python",
   "nbconvert_exporter": "python",
   "pygments_lexer": "ipython3",
   "version": "3.7.4"
  }
 },
 "nbformat": 4,
 "nbformat_minor": 2
}
